{
 "cells": [
  {
   "cell_type": "markdown",
   "metadata": {},
   "source": [
    "# Notebook to generate offxml with specific smiles patterns"
   ]
  },
  {
   "cell_type": "markdown",
   "metadata": {},
   "source": [
    "The notebook reads in a mol2 file and a frcmod file and gives back an openforcefield offxml file. It only modifies the LJ parameters. All other parameters are taken from the smirnoff offxml file specified. "
   ]
  },
  {
   "cell_type": "markdown",
   "metadata": {},
   "source": [
    "I read in all valence terms from smirnoff99Frosst and write them to our new force field file. I also included the header for the nonbondes section of the smirnoff force field format. "
   ]
  },
  {
   "cell_type": "code",
   "execution_count": 1,
   "metadata": {},
   "outputs": [],
   "source": [
    "offxml_file = open('/home/mschauperl/projects/lj_sam/smirnoff99FrosstHRES.offxml')\n",
    "offxml_lines = offxml_file.readlines()\n",
    "offxml_file.close()\n",
    "offxml_file = open('/home/mschauperl/projects/lj_sam/SDLJ.offxml','w')\n",
    "for line in offxml_lines:\n",
    "    if 'NonbondedForce' in line:\n",
    "        offxml_file.write(line)\n",
    "        break\n",
    "    else:\n",
    "        offxml_file.write(line)"
   ]
  },
  {
   "cell_type": "markdown",
   "metadata": {},
   "source": [
    "I read in the atomtypes in the order they appear in the mol2 file. Unfortunately, openeye converts the atomtypes always to Sybyl atom types. I am not sure if there is a way to avoid this. This is therefore a workaround this problem. "
   ]
  },
  {
   "cell_type": "code",
   "execution_count": 2,
   "metadata": {},
   "outputs": [],
   "source": [
    "# Important!!!! Order of atom has to be the same in both mol2 files!!!!!!\n",
    "mol2_filename =\"/home/mschauperl/projects/lj_sam/THF.mol2\"\n",
    "mol2sybyl_filename =\"/home/mschauperl/projects/lj_sam/THF_sybyl.mol2\"\n",
    "\n",
    "mol2_file = open(mol2_filename,'r')\n",
    "mol2_lines = mol2_file.readlines()\n",
    "mol2_file.close()\n",
    "atomtypes={} # Stores the atomtypes dict with atom index as key (starts with 1)\n",
    "for i,line in enumerate(mol2_lines):\n",
    "    if line.startswith('MOL'):\n",
    "        n_atom = int(mol2_lines[i+1].split()[0])\n",
    "    if line.startswith(\"@<TRIPOS>ATOM\"):\n",
    "        for j in range(1,n_atom+1,1):\n",
    "            atomtypes[j]=(mol2_lines[i+j].split()[5])"
   ]
  },
  {
   "cell_type": "code",
   "execution_count": 3,
   "metadata": {},
   "outputs": [
    {
     "name": "stdout",
     "output_type": "stream",
     "text": [
      "[#6H2X4x2r5+0A:1](-;!@[#1H0X1x0!r+0A])(-;!@[#1H0X1x0!r+0A])(-;@[#6H2X4x2r5+0A](-;!@[#1H0X1x0!r+0A])(-;!@[#1H0X1x0!r+0A])-;@[#6H2X4x2r5+0A](-;!@[#1H0X1x0!r+0A])(-;!@[#1H0X1x0!r+0A])-;@[#6H2X4x2r5+0A](-;!@[#1H0X1x0!r+0A])-;!@[#1H0X1x0!r+0A])-;@[#8H0X2x2r5+0A]\n",
      "[#6H2X4x2r5+0A:1](-;!@[#1H0X1x0!r+0A])(-;!@[#1H0X1x0!r+0A])(-;@[#6H2X4x2r5+0A](-;!@[#1H0X1x0!r+0A])(-;!@[#1H0X1x0!r+0A])-;@[#8H0X2x2r5+0A]-;@[#6H2X4x2r5+0A](-;!@[#1H0X1x0!r+0A])-;!@[#1H0X1x0!r+0A])-;@[#6H2X4x2r5+0A](-;!@[#1H0X1x0!r+0A])-;!@[#1H0X1x0!r+0A]\n",
      "[#6H2X4x2r5+0A:1](-;!@[#1H0X1x0!r+0A])(-;!@[#1H0X1x0!r+0A])(-;@[#6H2X4x2r5+0A](-;!@[#1H0X1x0!r+0A])(-;!@[#1H0X1x0!r+0A])-;@[#6H2X4x2r5+0A](-;!@[#1H0X1x0!r+0A])(-;!@[#1H0X1x0!r+0A])-;@[#8H0X2x2r5+0A])-;@[#6H2X4x2r5+0A](-;!@[#1H0X1x0!r+0A])-;!@[#1H0X1x0!r+0A]\n",
      "[#1H0X1x0!r+0A:1]-;!@[#6H2X4x2r5+0A](-;!@[#1H0X1x0!r+0A])(-;@[#6H2X4x2r5+0A](-;!@[#1H0X1x0!r+0A])(-;!@[#1H0X1x0!r+0A])-;@[#8H0X2x2r5+0A]-;@[#6H2X4x2r5+0A](-;!@[#1H0X1x0!r+0A])-;!@[#1H0X1x0!r+0A])-;@[#6H2X4x2r5+0A](-;!@[#1H0X1x0!r+0A])-;!@[#1H0X1x0!r+0A]\n",
      "[#1H0X1x0!r+0A:1]-;!@[#6H2X4x2r5+0A](-;!@[#1H0X1x0!r+0A])(-;@[#6H2X4x2r5+0A](-;!@[#1H0X1x0!r+0A])(-;!@[#1H0X1x0!r+0A])-;@[#8H0X2x2r5+0A]-;@[#6H2X4x2r5+0A](-;!@[#1H0X1x0!r+0A])-;!@[#1H0X1x0!r+0A])-;@[#6H2X4x2r5+0A](-;!@[#1H0X1x0!r+0A])-;!@[#1H0X1x0!r+0A]\n",
      "[#6H2X4x2r5+0A:1](-;!@[#1H0X1x0!r+0A])(-;!@[#1H0X1x0!r+0A])(-;@[#6H2X4x2r5+0A](-;!@[#1H0X1x0!r+0A])(-;!@[#1H0X1x0!r+0A])-;@[#6H2X4x2r5+0A](-;!@[#1H0X1x0!r+0A])(-;!@[#1H0X1x0!r+0A])-;@[#6H2X4x2r5+0A](-;!@[#1H0X1x0!r+0A])-;!@[#1H0X1x0!r+0A])-;@[#8H0X2x2r5+0A]\n",
      "[#1H0X1x0!r+0A:1]-;!@[#6H2X4x2r5+0A](-;!@[#1H0X1x0!r+0A])(-;@[#6H2X4x2r5+0A](-;!@[#1H0X1x0!r+0A])(-;!@[#1H0X1x0!r+0A])-;@[#6H2X4x2r5+0A](-;!@[#1H0X1x0!r+0A])(-;!@[#1H0X1x0!r+0A])-;@[#8H0X2x2r5+0A])-;@[#6H2X4x2r5+0A](-;!@[#1H0X1x0!r+0A])-;!@[#1H0X1x0!r+0A]\n",
      "[#1H0X1x0!r+0A:1]-;!@[#6H2X4x2r5+0A](-;!@[#1H0X1x0!r+0A])(-;@[#6H2X4x2r5+0A](-;!@[#1H0X1x0!r+0A])(-;!@[#1H0X1x0!r+0A])-;@[#6H2X4x2r5+0A](-;!@[#1H0X1x0!r+0A])(-;!@[#1H0X1x0!r+0A])-;@[#8H0X2x2r5+0A])-;@[#6H2X4x2r5+0A](-;!@[#1H0X1x0!r+0A])-;!@[#1H0X1x0!r+0A]\n",
      "[#8H0X2x2r5+0A:1](-;@[#6H2X4x2r5+0A](-;!@[#1H0X1x0!r+0A])(-;!@[#1H0X1x0!r+0A])-;@[#6H2X4x2r5+0A](-;!@[#1H0X1x0!r+0A])(-;!@[#1H0X1x0!r+0A])-;@[#6H2X4x2r5+0A](-;!@[#1H0X1x0!r+0A])-;!@[#1H0X1x0!r+0A])-;@[#6H2X4x2r5+0A](-;!@[#1H0X1x0!r+0A])-;!@[#1H0X1x0!r+0A]\n",
      "[#1H0X1x0!r+0A:1]-;!@[#6H2X4x2r5+0A](-;!@[#1H0X1x0!r+0A])(-;@[#6H2X4x2r5+0A](-;!@[#1H0X1x0!r+0A])(-;!@[#1H0X1x0!r+0A])-;@[#6H2X4x2r5+0A](-;!@[#1H0X1x0!r+0A])(-;!@[#1H0X1x0!r+0A])-;@[#6H2X4x2r5+0A](-;!@[#1H0X1x0!r+0A])-;!@[#1H0X1x0!r+0A])-;@[#8H0X2x2r5+0A]\n",
      "[#1H0X1x0!r+0A:1]-;!@[#6H2X4x2r5+0A](-;!@[#1H0X1x0!r+0A])(-;@[#6H2X4x2r5+0A](-;!@[#1H0X1x0!r+0A])(-;!@[#1H0X1x0!r+0A])-;@[#6H2X4x2r5+0A](-;!@[#1H0X1x0!r+0A])(-;!@[#1H0X1x0!r+0A])-;@[#6H2X4x2r5+0A](-;!@[#1H0X1x0!r+0A])-;!@[#1H0X1x0!r+0A])-;@[#8H0X2x2r5+0A]\n",
      "[#1H0X1x0!r+0A:1]-;!@[#6H2X4x2r5+0A](-;!@[#1H0X1x0!r+0A])(-;@[#6H2X4x2r5+0A](-;!@[#1H0X1x0!r+0A])(-;!@[#1H0X1x0!r+0A])-;@[#6H2X4x2r5+0A](-;!@[#1H0X1x0!r+0A])(-;!@[#1H0X1x0!r+0A])-;@[#6H2X4x2r5+0A](-;!@[#1H0X1x0!r+0A])-;!@[#1H0X1x0!r+0A])-;@[#8H0X2x2r5+0A]\n",
      "[#1H0X1x0!r+0A:1]-;!@[#6H2X4x2r5+0A](-;!@[#1H0X1x0!r+0A])(-;@[#6H2X4x2r5+0A](-;!@[#1H0X1x0!r+0A])(-;!@[#1H0X1x0!r+0A])-;@[#6H2X4x2r5+0A](-;!@[#1H0X1x0!r+0A])(-;!@[#1H0X1x0!r+0A])-;@[#6H2X4x2r5+0A](-;!@[#1H0X1x0!r+0A])-;!@[#1H0X1x0!r+0A])-;@[#8H0X2x2r5+0A]\n"
     ]
    },
    {
     "name": "stderr",
     "output_type": "stream",
     "text": [
      "RDKit WARNING: [15:26:16] Enabling RDKit 2019.09.1 jupyter extensions\n"
     ]
    }
   ],
   "source": [
    "from chemper.mol_toolkits import mol_toolkit\n",
    "from chemper.graphs.cluster_graph import ClusterGraph\n",
    "from chemper.chemper_utils import create_tuples_for_clusters\n",
    "from openeye import oechem\n",
    "#mol = mol_toolkit.MolFromSmiles('CCCO')\n",
    "mol = mol_toolkit.mols_from_mol2(mol2sybyl_filename)[0]\n",
    "ifs = oechem.oemolistream(mol2sybyl_filename)\n",
    "oe_mol = oechem.OEGraphMol()\n",
    "oechem.OEReadMol2File(ifs, oe_mol)\n",
    "dir(oe_mol)\n",
    "smiles_code={}\n",
    "for num,atom,oe_atom in zip(range(1,n_atom+1),mol.get_atoms(),oe_mol.GetAtoms()):\n",
    "    index=(atom.get_index())\n",
    "    graph = ClusterGraph([mol], [[(index,)]], layers='all')\n",
    "    print(graph.as_smirks())\n",
    "    smiles_code[num]=graph.as_smirks()\n",
    "    #print(oe_atom.GetType())\n"
   ]
  },
  {
   "cell_type": "code",
   "execution_count": 4,
   "metadata": {},
   "outputs": [],
   "source": [
    "frcmod_file = open('/home/mschauperl/projects/lj_sam/THF.frcmod','r')\n",
    "frcmod_lines = frcmod_file.readlines() \n",
    "frcmod_file.close()\n",
    "lj_params={}\n",
    "nb=False\n",
    "for line in frcmod_lines:\n",
    "    if line.startswith('NONBON'):\n",
    "        nb=True\n",
    "    elif nb ==True:\n",
    "        entry=line.split()\n",
    "        lj_params[entry[0]]={'eps':float(entry[1]),'rmin_2':float(entry[2])}"
   ]
  },
  {
   "cell_type": "code",
   "execution_count": 5,
   "metadata": {},
   "outputs": [
    {
     "data": {
      "text/plain": [
       "{1: 'bj',\n",
       " 2: 'bk',\n",
       " 3: 'bk',\n",
       " 4: 'bl',\n",
       " 5: 'bl',\n",
       " 6: 'bj',\n",
       " 7: 'bl',\n",
       " 8: 'bl',\n",
       " 9: 'bm',\n",
       " 10: 'bn',\n",
       " 11: 'bn',\n",
       " 12: 'bn',\n",
       " 13: 'bn'}"
      ]
     },
     "execution_count": 5,
     "metadata": {},
     "output_type": "execute_result"
    }
   ],
   "source": [
    "atomtypes"
   ]
  },
  {
   "cell_type": "code",
   "execution_count": 6,
   "metadata": {},
   "outputs": [
    {
     "data": {
      "text/plain": [
       "{'bj': {'eps': 1.91156266387, 'rmin_2': 0.08149111612961},\n",
       " 'bk': {'eps': 1.965148247978, 'rmin_2': 0.07710076675759},\n",
       " 'bl': {'eps': 1.413258426966, 'rmin_2': 0.02581745462997},\n",
       " 'bm': {'eps': 1.468801824212, 'rmin_2': 0.1522620202606},\n",
       " 'bn': {'eps': 1.42197327852, 'rmin_2': 0.02562615167227}}"
      ]
     },
     "execution_count": 6,
     "metadata": {},
     "output_type": "execute_result"
    }
   ],
   "source": [
    "lj_params"
   ]
  },
  {
   "cell_type": "code",
   "execution_count": 7,
   "metadata": {},
   "outputs": [
    {
     "data": {
      "text/plain": [
       "{1: '[#6H2X4x2r5+0A:1](-;!@[#1H0X1x0!r+0A])(-;!@[#1H0X1x0!r+0A])(-;@[#6H2X4x2r5+0A](-;!@[#1H0X1x0!r+0A])(-;!@[#1H0X1x0!r+0A])-;@[#6H2X4x2r5+0A](-;!@[#1H0X1x0!r+0A])(-;!@[#1H0X1x0!r+0A])-;@[#6H2X4x2r5+0A](-;!@[#1H0X1x0!r+0A])-;!@[#1H0X1x0!r+0A])-;@[#8H0X2x2r5+0A]',\n",
       " 2: '[#6H2X4x2r5+0A:1](-;!@[#1H0X1x0!r+0A])(-;!@[#1H0X1x0!r+0A])(-;@[#6H2X4x2r5+0A](-;!@[#1H0X1x0!r+0A])(-;!@[#1H0X1x0!r+0A])-;@[#8H0X2x2r5+0A]-;@[#6H2X4x2r5+0A](-;!@[#1H0X1x0!r+0A])-;!@[#1H0X1x0!r+0A])-;@[#6H2X4x2r5+0A](-;!@[#1H0X1x0!r+0A])-;!@[#1H0X1x0!r+0A]',\n",
       " 3: '[#6H2X4x2r5+0A:1](-;!@[#1H0X1x0!r+0A])(-;!@[#1H0X1x0!r+0A])(-;@[#6H2X4x2r5+0A](-;!@[#1H0X1x0!r+0A])(-;!@[#1H0X1x0!r+0A])-;@[#6H2X4x2r5+0A](-;!@[#1H0X1x0!r+0A])(-;!@[#1H0X1x0!r+0A])-;@[#8H0X2x2r5+0A])-;@[#6H2X4x2r5+0A](-;!@[#1H0X1x0!r+0A])-;!@[#1H0X1x0!r+0A]',\n",
       " 4: '[#1H0X1x0!r+0A:1]-;!@[#6H2X4x2r5+0A](-;!@[#1H0X1x0!r+0A])(-;@[#6H2X4x2r5+0A](-;!@[#1H0X1x0!r+0A])(-;!@[#1H0X1x0!r+0A])-;@[#8H0X2x2r5+0A]-;@[#6H2X4x2r5+0A](-;!@[#1H0X1x0!r+0A])-;!@[#1H0X1x0!r+0A])-;@[#6H2X4x2r5+0A](-;!@[#1H0X1x0!r+0A])-;!@[#1H0X1x0!r+0A]',\n",
       " 5: '[#1H0X1x0!r+0A:1]-;!@[#6H2X4x2r5+0A](-;!@[#1H0X1x0!r+0A])(-;@[#6H2X4x2r5+0A](-;!@[#1H0X1x0!r+0A])(-;!@[#1H0X1x0!r+0A])-;@[#8H0X2x2r5+0A]-;@[#6H2X4x2r5+0A](-;!@[#1H0X1x0!r+0A])-;!@[#1H0X1x0!r+0A])-;@[#6H2X4x2r5+0A](-;!@[#1H0X1x0!r+0A])-;!@[#1H0X1x0!r+0A]',\n",
       " 6: '[#6H2X4x2r5+0A:1](-;!@[#1H0X1x0!r+0A])(-;!@[#1H0X1x0!r+0A])(-;@[#6H2X4x2r5+0A](-;!@[#1H0X1x0!r+0A])(-;!@[#1H0X1x0!r+0A])-;@[#6H2X4x2r5+0A](-;!@[#1H0X1x0!r+0A])(-;!@[#1H0X1x0!r+0A])-;@[#6H2X4x2r5+0A](-;!@[#1H0X1x0!r+0A])-;!@[#1H0X1x0!r+0A])-;@[#8H0X2x2r5+0A]',\n",
       " 7: '[#1H0X1x0!r+0A:1]-;!@[#6H2X4x2r5+0A](-;!@[#1H0X1x0!r+0A])(-;@[#6H2X4x2r5+0A](-;!@[#1H0X1x0!r+0A])(-;!@[#1H0X1x0!r+0A])-;@[#6H2X4x2r5+0A](-;!@[#1H0X1x0!r+0A])(-;!@[#1H0X1x0!r+0A])-;@[#8H0X2x2r5+0A])-;@[#6H2X4x2r5+0A](-;!@[#1H0X1x0!r+0A])-;!@[#1H0X1x0!r+0A]',\n",
       " 8: '[#1H0X1x0!r+0A:1]-;!@[#6H2X4x2r5+0A](-;!@[#1H0X1x0!r+0A])(-;@[#6H2X4x2r5+0A](-;!@[#1H0X1x0!r+0A])(-;!@[#1H0X1x0!r+0A])-;@[#6H2X4x2r5+0A](-;!@[#1H0X1x0!r+0A])(-;!@[#1H0X1x0!r+0A])-;@[#8H0X2x2r5+0A])-;@[#6H2X4x2r5+0A](-;!@[#1H0X1x0!r+0A])-;!@[#1H0X1x0!r+0A]',\n",
       " 9: '[#8H0X2x2r5+0A:1](-;@[#6H2X4x2r5+0A](-;!@[#1H0X1x0!r+0A])(-;!@[#1H0X1x0!r+0A])-;@[#6H2X4x2r5+0A](-;!@[#1H0X1x0!r+0A])(-;!@[#1H0X1x0!r+0A])-;@[#6H2X4x2r5+0A](-;!@[#1H0X1x0!r+0A])-;!@[#1H0X1x0!r+0A])-;@[#6H2X4x2r5+0A](-;!@[#1H0X1x0!r+0A])-;!@[#1H0X1x0!r+0A]',\n",
       " 10: '[#1H0X1x0!r+0A:1]-;!@[#6H2X4x2r5+0A](-;!@[#1H0X1x0!r+0A])(-;@[#6H2X4x2r5+0A](-;!@[#1H0X1x0!r+0A])(-;!@[#1H0X1x0!r+0A])-;@[#6H2X4x2r5+0A](-;!@[#1H0X1x0!r+0A])(-;!@[#1H0X1x0!r+0A])-;@[#6H2X4x2r5+0A](-;!@[#1H0X1x0!r+0A])-;!@[#1H0X1x0!r+0A])-;@[#8H0X2x2r5+0A]',\n",
       " 11: '[#1H0X1x0!r+0A:1]-;!@[#6H2X4x2r5+0A](-;!@[#1H0X1x0!r+0A])(-;@[#6H2X4x2r5+0A](-;!@[#1H0X1x0!r+0A])(-;!@[#1H0X1x0!r+0A])-;@[#6H2X4x2r5+0A](-;!@[#1H0X1x0!r+0A])(-;!@[#1H0X1x0!r+0A])-;@[#6H2X4x2r5+0A](-;!@[#1H0X1x0!r+0A])-;!@[#1H0X1x0!r+0A])-;@[#8H0X2x2r5+0A]',\n",
       " 12: '[#1H0X1x0!r+0A:1]-;!@[#6H2X4x2r5+0A](-;!@[#1H0X1x0!r+0A])(-;@[#6H2X4x2r5+0A](-;!@[#1H0X1x0!r+0A])(-;!@[#1H0X1x0!r+0A])-;@[#6H2X4x2r5+0A](-;!@[#1H0X1x0!r+0A])(-;!@[#1H0X1x0!r+0A])-;@[#6H2X4x2r5+0A](-;!@[#1H0X1x0!r+0A])-;!@[#1H0X1x0!r+0A])-;@[#8H0X2x2r5+0A]',\n",
       " 13: '[#1H0X1x0!r+0A:1]-;!@[#6H2X4x2r5+0A](-;!@[#1H0X1x0!r+0A])(-;@[#6H2X4x2r5+0A](-;!@[#1H0X1x0!r+0A])(-;!@[#1H0X1x0!r+0A])-;@[#6H2X4x2r5+0A](-;!@[#1H0X1x0!r+0A])(-;!@[#1H0X1x0!r+0A])-;@[#6H2X4x2r5+0A](-;!@[#1H0X1x0!r+0A])-;!@[#1H0X1x0!r+0A])-;@[#8H0X2x2r5+0A]'}"
      ]
     },
     "execution_count": 7,
     "metadata": {},
     "output_type": "execute_result"
    }
   ],
   "source": [
    "smiles_code"
   ]
  },
  {
   "cell_type": "code",
   "execution_count": 8,
   "metadata": {},
   "outputs": [],
   "source": [
    "for key, atomtype in atomtypes.items():\n",
    "    line='<Atom smirks=\"{}\" epsilon=\"{}\" id=\"n{}\" rmin_half=\"{}\"/>\\n'.format(smiles_code[key],lj_params[atomtype]['eps'],key,lj_params[atomtype]['rmin_2'])\n",
    "    offxml_file.write(line)"
   ]
  },
  {
   "cell_type": "code",
   "execution_count": 9,
   "metadata": {},
   "outputs": [
    {
     "data": {
      "text/plain": [
       "12"
      ]
     },
     "execution_count": 9,
     "metadata": {},
     "output_type": "execute_result"
    }
   ],
   "source": [
    "offxml_file.write('</NonbondedForce>\\n')\n",
    "offxml_file.write('</SMIRNOFF>\\n')"
   ]
  },
  {
   "cell_type": "code",
   "execution_count": 10,
   "metadata": {},
   "outputs": [],
   "source": [
    "offxml_file.close()"
   ]
  },
  {
   "cell_type": "code",
   "execution_count": null,
   "metadata": {},
   "outputs": [],
   "source": []
  }
 ],
 "metadata": {
  "kernelspec": {
   "display_name": "Python (APR2)",
   "language": "python",
   "name": "apr"
  },
  "language_info": {
   "codemirror_mode": {
    "name": "ipython",
    "version": 3
   },
   "file_extension": ".py",
   "mimetype": "text/x-python",
   "name": "python",
   "nbconvert_exporter": "python",
   "pygments_lexer": "ipython3",
   "version": "3.7.3"
  }
 },
 "nbformat": 4,
 "nbformat_minor": 2
}
